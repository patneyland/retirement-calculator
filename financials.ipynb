{
 "cells": [
  {
   "cell_type": "code",
   "execution_count": 2,
   "metadata": {},
   "outputs": [],
   "source": [
    "import yfinance as yf"
   ]
  },
  {
   "cell_type": "code",
   "execution_count": 4,
   "metadata": {},
   "outputs": [
    {
     "ename": "Exception",
     "evalue": "yfinance failed to decrypt Yahoo data response",
     "output_type": "error",
     "traceback": [
      "\u001b[1;31m---------------------------------------------------------------------------\u001b[0m",
      "\u001b[1;31mException\u001b[0m                                 Traceback (most recent call last)",
      "Cell \u001b[1;32mIn[4], line 1\u001b[0m\n\u001b[1;32m----> 1\u001b[0m ticker \u001b[39m=\u001b[39m yf\u001b[39m.\u001b[39;49mTicker(\u001b[39m'\u001b[39;49m\u001b[39mGOOGL\u001b[39;49m\u001b[39m'\u001b[39;49m)\u001b[39m.\u001b[39;49minfo\n\u001b[0;32m      2\u001b[0m market_price \u001b[39m=\u001b[39m ticker[\u001b[39m'\u001b[39m\u001b[39mregularMarketPrice\u001b[39m\u001b[39m'\u001b[39m]\n\u001b[0;32m      3\u001b[0m previous_close_price \u001b[39m=\u001b[39m ticker[\u001b[39m'\u001b[39m\u001b[39mregularMarketPreviousClose\u001b[39m\u001b[39m'\u001b[39m]\n",
      "File \u001b[1;32mc:\\Users\\Patri\\anaconda3\\envs\\financial\\lib\\site-packages\\yfinance\\ticker.py:138\u001b[0m, in \u001b[0;36mTicker.info\u001b[1;34m(self)\u001b[0m\n\u001b[0;32m    136\u001b[0m \u001b[39m@property\u001b[39m\n\u001b[0;32m    137\u001b[0m \u001b[39mdef\u001b[39;00m \u001b[39minfo\u001b[39m(\u001b[39mself\u001b[39m) \u001b[39m-\u001b[39m\u001b[39m>\u001b[39m \u001b[39mdict\u001b[39m:\n\u001b[1;32m--> 138\u001b[0m     \u001b[39mreturn\u001b[39;00m \u001b[39mself\u001b[39;49m\u001b[39m.\u001b[39;49mget_info()\n",
      "File \u001b[1;32mc:\\Users\\Patri\\anaconda3\\envs\\financial\\lib\\site-packages\\yfinance\\base.py:1475\u001b[0m, in \u001b[0;36mTickerBase.get_info\u001b[1;34m(self, proxy)\u001b[0m\n\u001b[0;32m   1473\u001b[0m \u001b[39mdef\u001b[39;00m \u001b[39mget_info\u001b[39m(\u001b[39mself\u001b[39m, proxy\u001b[39m=\u001b[39m\u001b[39mNone\u001b[39;00m) \u001b[39m-\u001b[39m\u001b[39m>\u001b[39m \u001b[39mdict\u001b[39m:\n\u001b[0;32m   1474\u001b[0m     \u001b[39mself\u001b[39m\u001b[39m.\u001b[39m_quote\u001b[39m.\u001b[39mproxy \u001b[39m=\u001b[39m proxy\n\u001b[1;32m-> 1475\u001b[0m     data \u001b[39m=\u001b[39m \u001b[39mself\u001b[39;49m\u001b[39m.\u001b[39;49m_quote\u001b[39m.\u001b[39;49minfo\n\u001b[0;32m   1476\u001b[0m     \u001b[39mreturn\u001b[39;00m data\n",
      "File \u001b[1;32mc:\\Users\\Patri\\anaconda3\\envs\\financial\\lib\\site-packages\\yfinance\\scrapers\\quote.py:95\u001b[0m, in \u001b[0;36mQuote.info\u001b[1;34m(self)\u001b[0m\n\u001b[0;32m     92\u001b[0m \u001b[39m@property\u001b[39m\n\u001b[0;32m     93\u001b[0m \u001b[39mdef\u001b[39;00m \u001b[39minfo\u001b[39m(\u001b[39mself\u001b[39m) \u001b[39m-\u001b[39m\u001b[39m>\u001b[39m \u001b[39mdict\u001b[39m:\n\u001b[0;32m     94\u001b[0m     \u001b[39mif\u001b[39;00m \u001b[39mself\u001b[39m\u001b[39m.\u001b[39m_info \u001b[39mis\u001b[39;00m \u001b[39mNone\u001b[39;00m:\n\u001b[1;32m---> 95\u001b[0m         \u001b[39mself\u001b[39;49m\u001b[39m.\u001b[39;49m_scrape(\u001b[39mself\u001b[39;49m\u001b[39m.\u001b[39;49mproxy)\n\u001b[0;32m     96\u001b[0m         \u001b[39mself\u001b[39m\u001b[39m.\u001b[39m_scrape_complementary(\u001b[39mself\u001b[39m\u001b[39m.\u001b[39mproxy)\n\u001b[0;32m     98\u001b[0m     \u001b[39mreturn\u001b[39;00m \u001b[39mself\u001b[39m\u001b[39m.\u001b[39m_info\n",
      "File \u001b[1;32mc:\\Users\\Patri\\anaconda3\\envs\\financial\\lib\\site-packages\\yfinance\\scrapers\\quote.py:124\u001b[0m, in \u001b[0;36mQuote._scrape\u001b[1;34m(self, proxy)\u001b[0m\n\u001b[0;32m    121\u001b[0m \u001b[39mself\u001b[39m\u001b[39m.\u001b[39m_already_scraped \u001b[39m=\u001b[39m \u001b[39mTrue\u001b[39;00m\n\u001b[0;32m    123\u001b[0m \u001b[39m# get info and sustainability\u001b[39;00m\n\u001b[1;32m--> 124\u001b[0m json_data \u001b[39m=\u001b[39m \u001b[39mself\u001b[39;49m\u001b[39m.\u001b[39;49m_data\u001b[39m.\u001b[39;49mget_json_data_stores(proxy\u001b[39m=\u001b[39;49mproxy)\n\u001b[0;32m    125\u001b[0m \u001b[39mtry\u001b[39;00m:\n\u001b[0;32m    126\u001b[0m     quote_summary_store \u001b[39m=\u001b[39m json_data[\u001b[39m'\u001b[39m\u001b[39mQuoteSummaryStore\u001b[39m\u001b[39m'\u001b[39m]\n",
      "File \u001b[1;32mc:\\Users\\Patri\\anaconda3\\envs\\financial\\lib\\site-packages\\yfinance\\data.py:41\u001b[0m, in \u001b[0;36mlru_cache_freezeargs.<locals>.wrapped\u001b[1;34m(*args, **kwargs)\u001b[0m\n\u001b[0;32m     39\u001b[0m args \u001b[39m=\u001b[39m \u001b[39mtuple\u001b[39m([\u001b[39mtuple\u001b[39m(arg) \u001b[39mif\u001b[39;00m \u001b[39misinstance\u001b[39m(arg, \u001b[39mlist\u001b[39m) \u001b[39melse\u001b[39;00m arg \u001b[39mfor\u001b[39;00m arg \u001b[39min\u001b[39;00m args])\n\u001b[0;32m     40\u001b[0m kwargs \u001b[39m=\u001b[39m {k: \u001b[39mtuple\u001b[39m(v) \u001b[39mif\u001b[39;00m \u001b[39misinstance\u001b[39m(v, \u001b[39mlist\u001b[39m) \u001b[39melse\u001b[39;00m v \u001b[39mfor\u001b[39;00m k, v \u001b[39min\u001b[39;00m kwargs\u001b[39m.\u001b[39mitems()}\n\u001b[1;32m---> 41\u001b[0m \u001b[39mreturn\u001b[39;00m func(\u001b[39m*\u001b[39margs, \u001b[39m*\u001b[39m\u001b[39m*\u001b[39mkwargs)\n",
      "File \u001b[1;32mc:\\Users\\Patri\\anaconda3\\envs\\financial\\lib\\site-packages\\yfinance\\data.py:311\u001b[0m, in \u001b[0;36mTickerData.get_json_data_stores\u001b[1;34m(self, sub_page, proxy)\u001b[0m\n\u001b[0;32m    308\u001b[0m     keys \u001b[39m+\u001b[39m\u001b[39m=\u001b[39m response_gh\u001b[39m.\u001b[39mtext\u001b[39m.\u001b[39msplitlines()\n\u001b[0;32m    310\u001b[0m \u001b[39m# Decrypt!\u001b[39;00m\n\u001b[1;32m--> 311\u001b[0m stores \u001b[39m=\u001b[39m decrypt_cryptojs_aes_stores(data, keys)\n\u001b[0;32m    312\u001b[0m \u001b[39mif\u001b[39;00m stores \u001b[39mis\u001b[39;00m \u001b[39mNone\u001b[39;00m:\n\u001b[0;32m    313\u001b[0m     \u001b[39m# Maybe Yahoo returned old format, not encrypted\u001b[39;00m\n\u001b[0;32m    314\u001b[0m     \u001b[39mif\u001b[39;00m \u001b[39m\"\u001b[39m\u001b[39mcontext\u001b[39m\u001b[39m\"\u001b[39m \u001b[39min\u001b[39;00m data \u001b[39mand\u001b[39;00m \u001b[39m\"\u001b[39m\u001b[39mdispatcher\u001b[39m\u001b[39m\"\u001b[39m \u001b[39min\u001b[39;00m data[\u001b[39m\"\u001b[39m\u001b[39mcontext\u001b[39m\u001b[39m\"\u001b[39m]:\n",
      "File \u001b[1;32mc:\\Users\\Patri\\anaconda3\\envs\\financial\\lib\\site-packages\\yfinance\\data.py:162\u001b[0m, in \u001b[0;36mdecrypt_cryptojs_aes_stores\u001b[1;34m(data, keys)\u001b[0m\n\u001b[0;32m    160\u001b[0m             \u001b[39mpass\u001b[39;00m\n\u001b[0;32m    161\u001b[0m     \u001b[39mif\u001b[39;00m \u001b[39mnot\u001b[39;00m success:\n\u001b[1;32m--> 162\u001b[0m         \u001b[39mraise\u001b[39;00m \u001b[39mException\u001b[39;00m(\u001b[39m\"\u001b[39m\u001b[39myfinance failed to decrypt Yahoo data response\u001b[39m\u001b[39m\"\u001b[39m)\n\u001b[0;32m    164\u001b[0m decoded_stores \u001b[39m=\u001b[39m json\u001b[39m.\u001b[39mloads(plaintext)\n\u001b[0;32m    165\u001b[0m \u001b[39mreturn\u001b[39;00m decoded_stores\n",
      "\u001b[1;31mException\u001b[0m: yfinance failed to decrypt Yahoo data response"
     ]
    }
   ],
   "source": [
    "ticker = yf.Ticker('GOOGL').info\n",
    "market_price = ticker['regularMarketPrice']\n",
    "previous_close_price = ticker['regularMarketPreviousClose']\n",
    "print('Ticker: GOOGL')\n",
    "print('Market Price:', market_price)\n",
    "print('Previous Close Price:', previous_close_price)"
   ]
  },
  {
   "cell_type": "code",
   "execution_count": null,
   "metadata": {},
   "outputs": [],
   "source": []
  }
 ],
 "metadata": {
  "kernelspec": {
   "display_name": "financial",
   "language": "python",
   "name": "python3"
  },
  "language_info": {
   "codemirror_mode": {
    "name": "ipython",
    "version": 3
   },
   "file_extension": ".py",
   "mimetype": "text/x-python",
   "name": "python",
   "nbconvert_exporter": "python",
   "pygments_lexer": "ipython3",
   "version": "3.10.9"
  },
  "vscode": {
   "interpreter": {
    "hash": "d7ec0b0476e418f81d8359788a4cbb8b203bec1808c90e0a383d7a23d82254ee"
   }
  }
 },
 "nbformat": 4,
 "nbformat_minor": 2
}
