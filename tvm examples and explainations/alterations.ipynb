{
 "cells": [
  {
   "cell_type": "code",
   "execution_count": 2,
   "metadata": {},
   "outputs": [],
   "source": [
    "import numpy_financial as npf\n",
    "import pandas as pd\n",
    "import random"
   ]
  },
  {
   "attachments": {},
   "cell_type": "markdown",
   "metadata": {},
   "source": [
    "# Adjusted for retirement payments to be at the beginning of each month"
   ]
  },
  {
   "cell_type": "code",
   "execution_count": null,
   "metadata": {},
   "outputs": [],
   "source": [
    "import streamlit as st\n",
    "import pandas as pd\n",
    "import numpy_financial as npf\n",
    "#import matplotlib.pyplot as plt\n",
    "\n",
    "st.set_option('deprecation.showPyplotGlobalUse', False)\n",
    "\n",
    "#setting up the web application\n",
    "st.title('Retirment Calculator')\n",
    "st.write(\"Checkout the Github [Repository](https://github.com/patrickneyland/retirement-calculator)\")\n",
    "\n",
    "\n",
    "col1, col2, col3 = st.columns(3)\n",
    "\n",
    "with col1:\n",
    "    age = st.number_input('Current age', 10,110,25)\n",
    "    retirement_age = st.number_input('Expected retirement age', 10,110,65)\n",
    "    life_expectancy = st.number_input('Life expectancy', 10,120,95)\n",
    "\n",
    "with col2:\n",
    "    income = st.number_input(\"Income goal for retirement\", 1000, 10000000, 40000, 1000)\n",
    "    currently_saved = st.number_input(\"Current savings investments\", 0,10000000,0,1000)\n",
    "\n",
    "with col3:\n",
    "    return_rate = st.number_input(\"Expected rate of return\", 0.0,100.00,6.00,0.10)\n",
    "    inflation_rate = st.number_input(\"Expected inflation rate\", 0.0,100.00,2.5,0.10)"
   ]
  },
  {
   "cell_type": "code",
   "execution_count": 28,
   "metadata": {},
   "outputs": [
    {
     "name": "stdout",
     "output_type": "stream",
     "text": [
      "Accounting for inflation and taxes, you need to invest $1,208 at the end of each month to retire with $401,615. You will be able to withdraw $2,917 of todays dollars per month after taxes are paid.\n"
     ]
    }
   ],
   "source": [
    "#calculating taxes based on retirement income\n",
    "rate_1 = .25\n",
    "rate_2 = .30\n",
    "rate_3 = .35\n",
    "#income limits for tax brackets\n",
    "limit_1 = 50000\n",
    "limit_2 = 100000\n",
    "\n",
    "rate = 0.06\n",
    "inflation = 0.028\n",
    "real_rate = (1+rate)/(1+inflation)-1\n",
    "withdrawal_amount = 35000\n",
    "monthly_withdrawal_amount = withdrawal_amount/12\n",
    "before_tax_withdrawal_amount = withdrawal_amount/(1-tax_rate)\n",
    "work_years = 20\n",
    "retirement_years = 10\n",
    "\n",
    "if withdrawal_amount <= limit_1:\n",
    "    tax_adjusted_withdrawal_amount = withdrawal_amount/(1-rate_1)\n",
    "elif withdrawal_amount <= limit_2:\n",
    "    tax_adjusted_withdrawal_amount = (withdrawal_amount-limit_1)/(1-rate_2) + limit_1/(1-rate_1)\n",
    "else:\n",
    "    tax_adjusted_withdrawal_amount = (withdrawal_amount-limit_2)/(1-rate_3) + limit_1/(1-rate_1) + (limit_2-limit_1)/(1-rate_2)\n",
    "\n",
    "nestegg = npf.pv(real_rate/12, retirement_years*12, -tax_adjusted_withdrawal_amount/12, 0,when='begin')\n",
    "\n",
    "monthly_contributions = npf.pmt(real_rate/12, work_years*12, 0, -nestegg)\n",
    "\n",
    "print(f'Accounting for inflation and taxes, you need to invest ${monthly_contributions:,.0f} at the end of each month to retire with ${nestegg:,.0f}. You will be able to withdraw ${monthly_withdrawal_amount:,.0f} of todays dollars per month after taxes are paid.')"
   ]
  }
 ],
 "metadata": {
  "kernelspec": {
   "display_name": "Python 3",
   "language": "python",
   "name": "python3"
  },
  "language_info": {
   "codemirror_mode": {
    "name": "ipython",
    "version": 3
   },
   "file_extension": ".py",
   "mimetype": "text/x-python",
   "name": "python",
   "nbconvert_exporter": "python",
   "pygments_lexer": "ipython3",
   "version": "3.10.10"
  },
  "orig_nbformat": 4,
  "vscode": {
   "interpreter": {
    "hash": "48bb8ccca6e6802098c80f2b059636e3d4fe73d8c5f2083887f2f1f145f0c1e6"
   }
  }
 },
 "nbformat": 4,
 "nbformat_minor": 2
}
