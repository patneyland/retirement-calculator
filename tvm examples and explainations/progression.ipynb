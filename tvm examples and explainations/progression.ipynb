{
 "cells": [
  {
   "cell_type": "code",
   "execution_count": 2,
   "metadata": {},
   "outputs": [],
   "source": [
    "import numpy_financial as npf\n",
    "import pandas as pd\n",
    "import random"
   ]
  },
  {
   "attachments": {},
   "cell_type": "markdown",
   "metadata": {},
   "source": [
    "# Initial Problem\n",
    "You are planning to save for retirement beginning next year. You expect to work for 35 years and plan to retire for 30 years. You require $50,000 per year to live in retirement. You expect to earn 9% per year on all your investment. How much must you deposit each year before you retire to fund your retirement?"
   ]
  },
  {
   "cell_type": "code",
   "execution_count": 47,
   "metadata": {},
   "outputs": [
    {
     "name": "stdout",
     "output_type": "stream",
     "text": [
      "You need to save $2,381 per year to retire with $513,683. You will be able to withdraw $50,000 per year.\n",
      "You will need to contribute $25,163 today to retire with $513,683. You will be able to withdraw $50,000 per year.\n"
     ]
    }
   ],
   "source": [
    "rate = 0.09\n",
    "withdrawal_amount = 50000\n",
    "work_years = 35\n",
    "retirement_years = 30\n",
    "\n",
    "nestegg = npf.pv(rate, retirement_years, -withdrawal_amount, 0)\n",
    "nestegg\n",
    "annual_contributions = npf.pmt(rate, work_years, 0, -nestegg)\n",
    "annual_contributions\n",
    "lump_sum_contribution = npf.pv(rate, work_years, 0, -nestegg)\n",
    "print(f'You need to save ${annual_contributions:,.0f} per year to retire with ${nestegg:,.0f}. You will be able to withdraw ${withdrawal_amount:,.0f} per year.')\n",
    "print(f'You will need to contribute ${lump_sum_contribution:,.0f} today to retire with ${nestegg:,.0f}. You will be able to withdraw ${withdrawal_amount:,.0f} per year.')"
   ]
  },
  {
   "attachments": {},
   "cell_type": "markdown",
   "metadata": {},
   "source": [
    "# Accounting for inflation\n",
    "Now suppose that inflation is 2.8% per year throughout the problem."
   ]
  },
  {
   "cell_type": "code",
   "execution_count": 48,
   "metadata": {},
   "outputs": [
    {
     "name": "stdout",
     "output_type": "stream",
     "text": [
      "Now accounting for inflation, you need to save $6,115 per year to retire with $685,955. You will be able to withdraw $50,000 of todays dollars per year.\n"
     ]
    }
   ],
   "source": [
    "rate = 0.09\n",
    "inflation = 0.028\n",
    "real_rate = (1+rate)/(1+inflation)-1\n",
    "withdrawal_amount = 50000\n",
    "work_years = 35\n",
    "retirement_years = 30\n",
    "\n",
    "nestegg = npf.pv(real_rate, retirement_years, -withdrawal_amount, 0)\n",
    "nestegg\n",
    "annual_contributions = npf.pmt(real_rate, work_years, 0, -nestegg)\n",
    "annual_contributions\n",
    "print(f'Now accounting for inflation, you need to save ${annual_contributions:,.0f} per year to retire with ${nestegg:,.0f}. You will be able to withdraw ${withdrawal_amount:,.0f} of todays dollars per year.')"
   ]
  },
  {
   "attachments": {},
   "cell_type": "markdown",
   "metadata": {},
   "source": [
    "# Growing the deposit amount\n",
    "Next let’s assume that you can increase your deposit by 3% per year.\n",
    "We can use the formula to calculate the first payment of a growing annuity. \n",
    "$PMT_1 = FV/(((1+r)^n - (1+g)^n)/(r-g))$"
   ]
  },
  {
   "cell_type": "code",
   "execution_count": 49,
   "metadata": {},
   "outputs": [
    {
     "name": "stdout",
     "output_type": "stream",
     "text": [
      "Now accounting for growing deposits, you need to save $4,199 this year and grow that deposit by 3.0% each year to retire with $685,955. You will be able to withdraw $50,000 of todays dollars per year.\n"
     ]
    }
   ],
   "source": [
    "rate = 0.09\n",
    "inflation = 0.028\n",
    "real_rate = (1+rate)/(1+inflation)-1\n",
    "withdrawal_amount = 50000\n",
    "work_years = 35\n",
    "retirement_years = 30\n",
    "deposit_growth_rate = 0.03\n",
    "\n",
    "nestegg = npf.pv(real_rate, retirement_years, -withdrawal_amount, 0)\n",
    "nestegg\n",
    "\n",
    "annual_contributions = nestegg/(((1+real_rate)**work_years - (1+deposit_growth_rate)**work_years)/(real_rate-deposit_growth_rate))\n",
    "annual_contributions\n",
    "print(f'Now accounting for growing deposits, you need to save ${annual_contributions:,.0f} this year and grow that deposit by {deposit_growth_rate*100}% each year to retire with ${nestegg:,.0f}. You will be able to withdraw ${withdrawal_amount:,.0f} of todays dollars per year.')"
   ]
  },
  {
   "attachments": {},
   "cell_type": "markdown",
   "metadata": {},
   "source": [
    "# Starting to account for taxes\n",
    "Next assume that your deposits are tax free, but you are taxed at 30% upon withdrawal."
   ]
  },
  {
   "cell_type": "code",
   "execution_count": 50,
   "metadata": {},
   "outputs": [
    {
     "name": "stdout",
     "output_type": "stream",
     "text": [
      "Now accounting for taxes, you need to save $5,999 this year and grow that deposit by 3.0% each year to retire with $979,936. After taxes are paid, you will be able to withdraw $50,000 of todays dollars per year.\n"
     ]
    }
   ],
   "source": [
    "rate = 0.09\n",
    "inflation = 0.028\n",
    "tax_rate = 0.3\n",
    "real_rate = (1+rate)/(1+inflation)-1\n",
    "withdrawal_amount = 50000\n",
    "before_tax_withdrawal_amount = withdrawal_amount/(1-tax_rate)\n",
    "work_years = 35\n",
    "retirement_years = 30\n",
    "deposit_growth_rate = 0.03\n",
    "\n",
    "\n",
    "nestegg = npf.pv(real_rate, retirement_years, -before_tax_withdrawal_amount, 0)\n",
    "\n",
    "annual_contributions = nestegg/(((1+real_rate)**work_years - (1+deposit_growth_rate)**work_years)/(real_rate-deposit_growth_rate))\n",
    "annual_contributions\n",
    "print(f'Now accounting for taxes, you need to save ${annual_contributions:,.0f} this year and grow that deposit by {deposit_growth_rate*100}% each year to retire with ${nestegg:,.0f}. After taxes are paid, you will be able to withdraw ${withdrawal_amount:,.0f} of todays dollars per year.')"
   ]
  },
  {
   "attachments": {},
   "cell_type": "markdown",
   "metadata": {},
   "source": [
    "# Accounting for variable rates\n",
    "Suppose you can choose your own level of risk. That is low risk earning a 7% return annually, medium risk earning 8.5% return annually, or high risk earning 10% annually."
   ]
  },
  {
   "cell_type": "code",
   "execution_count": 56,
   "metadata": {},
   "outputs": [
    {
     "data": {
      "text/plain": [
       "10637.55976472686"
      ]
     },
     "execution_count": 56,
     "metadata": {},
     "output_type": "execute_result"
    }
   ],
   "source": [
    "inflation = 0.028\n",
    "tax_rate = 0.3\n",
    "rates = {\"low\": 0.07, \"medium\": 0.085, \"high\": 0.10}\n",
    "risk = \"low\"\n",
    "rate = rates[risk]\n",
    "real_rate = (1+rate)/(1+inflation)-1\n",
    "withdrawal_amount = 50000\n",
    "before_tax_withdrawal_amount = withdrawal_amount/(1-tax_rate)\n",
    "work_years = 35\n",
    "retirement_years = 30\n",
    "deposit_growth_rate = 0.03\n",
    "\n",
    "\n",
    "nestegg = npf.pv(real_rate, retirement_years, -before_tax_withdrawal_amount, 0)\n",
    "\n",
    "annual_contributions = nestegg/(((1+real_rate)**work_years - (1+deposit_growth_rate)**work_years)/(real_rate-deposit_growth_rate))\n",
    "annual_contributions"
   ]
  },
  {
   "attachments": {},
   "cell_type": "markdown",
   "metadata": {},
   "source": [
    "# Adding prgressive tax brackets\n",
    "Suppose you want to choose your own individual level of retirement income with the following tax schedule:  \n",
    "Less than $50,000 \t\t\t\t    25%  \n",
    "Between $50,000 and $100,000 \t    30%  \n",
    "Greater than $100,000 \t    \t    35%   \n"
   ]
  },
  {
   "cell_type": "code",
   "execution_count": 59,
   "metadata": {},
   "outputs": [
    {
     "data": {
      "text/plain": [
       "9928.38911374507"
      ]
     },
     "execution_count": 59,
     "metadata": {},
     "output_type": "execute_result"
    }
   ],
   "source": [
    "#calculating taxes based on retirement income\n",
    "rate_1 = .25\n",
    "rate_2 = .30\n",
    "rate_3 = .35\n",
    "#income limits for tax brackets\n",
    "limit_1 = 50000\n",
    "limit_2 = 100000\n",
    "\n",
    "inflation = 0.028\n",
    "tax_rate = 0.3\n",
    "rates = {\"low\": 0.07, \"medium\": 0.085, \"high\": 0.10}\n",
    "risk = \"low\"\n",
    "rate = rates[risk]\n",
    "real_rate = (1+rate)/(1+inflation)-1\n",
    "withdrawal_amount = 50000\n",
    "work_years = 35\n",
    "retirement_years = 30\n",
    "deposit_growth_rate = 0.03\n",
    "\n",
    "if withdrawal_amount <= limit_1:\n",
    "    tax_adjusted_withdrawal_amount = withdrawal_amount/(1-rate_1)\n",
    "elif withdrawal_amount <= limit_2:\n",
    "    tax_adjusted_withdrawal_amount = (withdrawal_amount-limit_1)/(1-rate_2) + limit_1/(1-rate_1)\n",
    "else:\n",
    "    tax_adjusted_withdrawal_amount = (withdrawal_amount-limit_2)/(1-rate_3) + limit_1/(1-rate_1) + (limit_2-limit_1)/(1-rate_2)\n",
    "\n",
    "nestegg = npf.pv(real_rate, retirement_years, -tax_adjusted_withdrawal_amount, 0)\n",
    "\n",
    "annual_contributions = nestegg/(((1+real_rate)**work_years - (1+deposit_growth_rate)**work_years)/(real_rate-deposit_growth_rate))\n",
    "annual_contributions"
   ]
  },
  {
   "attachments": {},
   "cell_type": "markdown",
   "metadata": {},
   "source": [
    "# Now changing rates deposit growth\n",
    "Suppose that you can only commit to 5% increases for the first 15 years. After that you will only increase at 3% per year."
   ]
  },
  {
   "cell_type": "code",
   "execution_count": 67,
   "metadata": {},
   "outputs": [
    {
     "data": {
      "text/plain": [
       "62049.586667580814"
      ]
     },
     "execution_count": 67,
     "metadata": {},
     "output_type": "execute_result"
    }
   ],
   "source": [
    "#calculating taxes based on retirement income\n",
    "rate_1 = .25\n",
    "rate_2 = .30\n",
    "rate_3 = .35\n",
    "#income limits for tax brackets\n",
    "limit_1 = 50000\n",
    "limit_2 = 100000\n",
    "\n",
    "inflation = 0.028\n",
    "tax_rate = 0.3\n",
    "rates = {\"low\": 0.07, \"medium\": 0.085, \"high\": 0.10}\n",
    "risk = \"high\"\n",
    "rate = rates[risk]\n",
    "real_rate = (1+rate)/(1+inflation)-1\n",
    "withdrawal_amount = 50000\n",
    "work_years = 35\n",
    "retirement_years = 30\n",
    "\n",
    "if withdrawal_amount <= limit_1:\n",
    "    tax_adjusted_withdrawal_amount = withdrawal_amount/(1-rate_1)\n",
    "elif withdrawal_amount <= limit_2:\n",
    "    tax_adjusted_withdrawal_amount = (withdrawal_amount-limit_1)/(1-rate_2) + limit_1/(1-rate_1)\n",
    "else:\n",
    "    tax_adjusted_withdrawal_amount = (withdrawal_amount-limit_2)/(1-rate_3) + limit_1/(1-rate_1) + (limit_2-limit_1)/(1-rate_2)\n",
    "\n",
    "nestegg = npf.pv(real_rate, retirement_years, -tax_adjusted_withdrawal_amount, 0)\n",
    "\n",
    "#we will have to do multiple periods for each deposit growth rate\n",
    "deposit_growth_rate_1 = 0.05\n",
    "deposit_growth_rate_2 = 0.03\n",
    "deposit_years_1 = 15\n",
    "deposit_years_2 = work_years - deposit_years_1\n",
    "\n",
    "\n",
    "\n",
    "first_contribution = nestegg/(((1+real_rate)**deposit_years_1 - (1+deposit_growth_rate_1)**deposit_years_1)/(real_rate-deposit_growth_rate_1))\n",
    "first_contribution\n",
    "\n",
    "fv_deposit_years_1 = first_contribution*(((1+real_rate)**deposit_years_1-(1+deposit_growth_rate_1)**deposit_years_1)/(real_rate-deposit_growth_rate_1))\n",
    "fv_deposit_years_1\n",
    "\n",
    "second_contribution = fv_deposit_years_1 * ((real_rate-deposit_growth_rate_2)/((1-((1+deposit_growth_rate_2)/(1+real_rate))**deposit_years_2)))\n",
    "second_contribution\n",
    "\n",
    "fv_deposit_years_2 = second_contribution*(((1+real_rate)**deposit_years_2-(1+deposit_growth_rate_2)**deposit_years_2)/(real_rate-deposit_growth_rate_2))\n",
    "\n"
   ]
  },
  {
   "attachments": {},
   "cell_type": "markdown",
   "metadata": {},
   "source": [
    "Working with varrying levels of risk.\n",
    "\n",
    "Finally, suppose you would like to adjust your risk taking with high risk for the first 25, medium risk for the next 5 years, and then low for the last five and throughout retirement. How does this change your answer?"
   ]
  },
  {
   "cell_type": "code",
   "execution_count": 69,
   "metadata": {},
   "outputs": [
    {
     "data": {
      "text/plain": [
       "8796.131580985937"
      ]
     },
     "execution_count": 69,
     "metadata": {},
     "output_type": "execute_result"
    }
   ],
   "source": [
    "#calculating taxes based on retirement income\n",
    "rate_1 = .25\n",
    "rate_2 = .30\n",
    "rate_3 = .35\n",
    "#income limits for tax brackets\n",
    "limit_1 = 50000\n",
    "limit_2 = 100000\n",
    "\n",
    "inflation = 0.028\n",
    "tax_rate = 0.3\n",
    "withdrawal_amount = 50000\n",
    "work_years = 35\n",
    "retirement_years = 30\n",
    "deposit_growth_rate = 0.03\n",
    "\n",
    "rates = {\"low\": 0.07, \"medium\": 0.085, \"high\": 0.10}\n",
    "rate_low = rates[\"low\"]\n",
    "rate_medium = rates[\"medium\"]\n",
    "rate_high = rates[\"high\"]\n",
    "real_rate_low = (1+rate_low)/(1+inflation)-1\n",
    "real_rate_medium = (1+rate_medium)/(1+inflation)-1\n",
    "real_rate_high = (1+rate_high)/(1+inflation)-1\n",
    "\n",
    "if withdrawal_amount <= limit_1:\n",
    "    tax_adjusted_withdrawal_amount = withdrawal_amount/(1-rate_1)\n",
    "elif withdrawal_amount <= limit_2:\n",
    "    tax_adjusted_withdrawal_amount = (withdrawal_amount-limit_1)/(1-rate_2) + limit_1/(1-rate_1)\n",
    "else:\n",
    "    tax_adjusted_withdrawal_amount = (withdrawal_amount-limit_2)/(1-rate_3) + limit_1/(1-rate_1) + (limit_2-limit_1)/(1-rate_2)\n",
    "\n",
    "nestegg = npf.pv(real_rate_low, retirement_years, -tax_adjusted_withdrawal_amount, 0)\n",
    "\n",
    "five_years_from_nestegg = nestegg*(((1+real_rate_medium)**(5)-(1+deposit_growth_rate)**(5))/(real_rate_low-deposit_growth_rate))\n",
    "\n",
    "first_contribution = nestegg/(((1+real_rate_high)**(work_years-5) - (1+deposit_growth_rate)**(work_years-5))/(real_rate-deposit_growth_rate))\n",
    "first_contribution\n"
   ]
  }
 ],
 "metadata": {
  "kernelspec": {
   "display_name": "Python 3",
   "language": "python",
   "name": "python3"
  },
  "language_info": {
   "codemirror_mode": {
    "name": "ipython",
    "version": 3
   },
   "file_extension": ".py",
   "mimetype": "text/x-python",
   "name": "python",
   "nbconvert_exporter": "python",
   "pygments_lexer": "ipython3",
   "version": "3.10.10"
  },
  "orig_nbformat": 4,
  "vscode": {
   "interpreter": {
    "hash": "48bb8ccca6e6802098c80f2b059636e3d4fe73d8c5f2083887f2f1f145f0c1e6"
   }
  }
 },
 "nbformat": 4,
 "nbformat_minor": 2
}
