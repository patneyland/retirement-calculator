{
 "cells": [
  {
   "cell_type": "code",
   "execution_count": 1,
   "metadata": {},
   "outputs": [],
   "source": [
    "import pandas as pd\n",
    "import numpy_financial as npf"
   ]
  },
  {
   "cell_type": "code",
   "execution_count": 16,
   "metadata": {},
   "outputs": [
    {
     "data": {
      "text/plain": [
       "0    0.06\n",
       "1   -0.19\n",
       "2    0.27\n",
       "3    0.16\n",
       "4    0.29\n",
       "5   -0.06\n",
       "6    0.19\n",
       "7    0.10\n",
       "8   -0.01\n",
       "9    0.11\n",
       "Name: Annual Return, dtype: float64"
      ]
     },
     "execution_count": 16,
     "metadata": {},
     "output_type": "execute_result"
    }
   ],
   "source": [
    "snp_rates = pd.read_csv(\"S&P500 Historical Annual Returns.csv\")\n",
    "snp_rates\n",
    "column = snp_rates['Annual Return'].head(10)\n",
    "column"
   ]
  }
 ],
 "metadata": {
  "kernelspec": {
   "display_name": "Python 3",
   "language": "python",
   "name": "python3"
  },
  "language_info": {
   "codemirror_mode": {
    "name": "ipython",
    "version": 3
   },
   "file_extension": ".py",
   "mimetype": "text/x-python",
   "name": "python",
   "nbconvert_exporter": "python",
   "pygments_lexer": "ipython3",
   "version": "3.10.9"
  },
  "orig_nbformat": 4,
  "vscode": {
   "interpreter": {
    "hash": "48bb8ccca6e6802098c80f2b059636e3d4fe73d8c5f2083887f2f1f145f0c1e6"
   }
  }
 },
 "nbformat": 4,
 "nbformat_minor": 2
}
